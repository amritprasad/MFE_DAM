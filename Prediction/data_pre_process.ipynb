{
 "cells": [
  {
   "cell_type": "code",
   "execution_count": 13,
   "metadata": {
    "ExecuteTime": {
     "end_time": "2019-03-09T10:07:31.571475Z",
     "start_time": "2019-03-09T10:04:52.680890Z"
    }
   },
   "outputs": [
    {
     "name": "stdout",
     "output_type": "stream",
     "text": [
      "\u001b[30mReading Sheet \u001b[32m<QMJ Factors>\n",
      "\u001b[30mReading Sheet \u001b[32m<MKT>\n",
      "\u001b[30mReading Sheet \u001b[32m<SMB>\n",
      "\u001b[30mReading Sheet \u001b[32m<HML FF>\n",
      "\u001b[30mReading Sheet \u001b[32m<HML Devil>\n",
      "\u001b[30mReading Sheet \u001b[32m<UMD>\n",
      "\u001b[30mReading Sheet \u001b[32m<RF>\n",
      "\u001b[30mWriting to \u001b[35m/Users/liyiheng/Documents/Git/DAM/Data/aqr_daily.pickle\n",
      "\u001b[30mDone\n"
     ]
    }
   ],
   "source": [
    "import pandas as pd\n",
    "import pickle\n",
    "import os\n",
    "\n",
    "data_path = os.path.abspath(\n",
    "    os.path.join(os.getcwd(), os.pardir, os.pardir, 'Data'))\n",
    "\n",
    "EXCEL_NAME = '/Users/liyiheng/Documents/Git/DAM/Data/AQR_Data_Daily.xlsx'\n",
    "SHEET_NAMES = ['QMJ Factors', 'MKT', 'SMB', 'HML FF', 'HML Devil', 'UMD', 'RF']\n",
    "MAPPED_NAMES = ['QUA', 'MKT', 'SMB', 'HMLFF', 'HMLDE', 'UMD', 'RF']\n",
    "\n",
    "output = {}\n",
    "for sheet, name in zip(SHEET_NAMES, MAPPED_NAMES):\n",
    "    print('\\u001b[30mReading Sheet \\u001b[32m<%s>' % sheet)\n",
    "    df = pd.read_excel(EXCEL_NAME, sheet_name=sheet, header=18)\n",
    "    df.set_index('DATE', inplace=True)\n",
    "    df.index = pd.to_datetime(df.index)\n",
    "    output[name] = df\n",
    "    \n",
    "output_path = os.path.join(data_path, 'aqr_daily.pickle')\n",
    "with open(output_path, 'wb') as handle:\n",
    "    print('\\u001b[30mWriting to \\u001b[35m%s' % output_path)\n",
    "    pickle.dump(output, handle)\n",
    "    print('\\u001b[30mDone')"
   ]
  },
  {
   "cell_type": "code",
   "execution_count": null,
   "metadata": {},
   "outputs": [],
   "source": []
  }
 ],
 "metadata": {
  "hide_input": false,
  "kernelspec": {
   "display_name": "Python [conda env:DAM]",
   "language": "python",
   "name": "conda-env-DAM-py"
  },
  "language_info": {
   "codemirror_mode": {
    "name": "ipython",
    "version": 3
   },
   "file_extension": ".py",
   "mimetype": "text/x-python",
   "name": "python",
   "nbconvert_exporter": "python",
   "pygments_lexer": "ipython3",
   "version": "3.7.2"
  },
  "toc": {
   "base_numbering": 1,
   "nav_menu": {},
   "number_sections": false,
   "sideBar": true,
   "skip_h1_title": false,
   "title_cell": "Table of Contents",
   "title_sidebar": "Contents",
   "toc_cell": false,
   "toc_position": {},
   "toc_section_display": true,
   "toc_window_display": false
  }
 },
 "nbformat": 4,
 "nbformat_minor": 2
}
