{
 "cells": [
  {
   "cell_type": "code",
   "execution_count": 1,
   "metadata": {
    "ExecuteTime": {
     "end_time": "2019-03-17T11:58:37.559774Z",
     "start_time": "2019-03-17T11:58:36.289646Z"
    }
   },
   "outputs": [],
   "source": [
    "%load_ext autoreload\n",
    "%autoreload 1\n",
    "\n",
    "%aimport utils\n",
    "import pandas as pd\n",
    "import numpy as np\n",
    "import os\n",
    "import pickle\n",
    "from IPython.display import display, HTML"
   ]
  },
  {
   "cell_type": "markdown",
   "metadata": {},
   "source": [
    "## Load X/Y from cached files"
   ]
  },
  {
   "cell_type": "code",
   "execution_count": 2,
   "metadata": {
    "ExecuteTime": {
     "end_time": "2019-03-17T11:58:37.599260Z",
     "start_time": "2019-03-17T11:58:37.561361Z"
    }
   },
   "outputs": [
    {
     "data": {
      "text/html": [
       "<h4>USA - Features</h4>"
      ],
      "text/plain": [
       "<IPython.core.display.HTML object>"
      ]
     },
     "metadata": {},
     "output_type": "display_data"
    },
    {
     "data": {
      "text/html": [
       "<div>\n",
       "<style scoped>\n",
       "    .dataframe tbody tr th:only-of-type {\n",
       "        vertical-align: middle;\n",
       "    }\n",
       "\n",
       "    .dataframe tbody tr th {\n",
       "        vertical-align: top;\n",
       "    }\n",
       "\n",
       "    .dataframe thead th {\n",
       "        text-align: right;\n",
       "    }\n",
       "</style>\n",
       "<table border=\"1\" class=\"dataframe\">\n",
       "  <thead>\n",
       "    <tr style=\"text-align: right;\">\n",
       "      <th></th>\n",
       "      <th>cpi</th>\n",
       "      <th>production</th>\n",
       "      <th>gvnbond10y</th>\n",
       "      <th>3mlibor</th>\n",
       "      <th>unemployment</th>\n",
       "      <th>cpi_diff</th>\n",
       "      <th>production_diff</th>\n",
       "      <th>gvnbond10y_diff</th>\n",
       "      <th>3mlibor_diff</th>\n",
       "      <th>unemployment_diff</th>\n",
       "      <th>QUA</th>\n",
       "      <th>MKT</th>\n",
       "      <th>SMB</th>\n",
       "      <th>HMLFF</th>\n",
       "      <th>HMLDE</th>\n",
       "      <th>UMD</th>\n",
       "      <th>RF</th>\n",
       "      <th>RV30D</th>\n",
       "    </tr>\n",
       "    <tr>\n",
       "      <th>DATE</th>\n",
       "      <th></th>\n",
       "      <th></th>\n",
       "      <th></th>\n",
       "      <th></th>\n",
       "      <th></th>\n",
       "      <th></th>\n",
       "      <th></th>\n",
       "      <th></th>\n",
       "      <th></th>\n",
       "      <th></th>\n",
       "      <th></th>\n",
       "      <th></th>\n",
       "      <th></th>\n",
       "      <th></th>\n",
       "      <th></th>\n",
       "      <th></th>\n",
       "      <th></th>\n",
       "      <th></th>\n",
       "    </tr>\n",
       "  </thead>\n",
       "  <tbody>\n",
       "    <tr>\n",
       "      <th>1986-02-01</th>\n",
       "      <td>46.283600</td>\n",
       "      <td>52.5120</td>\n",
       "      <td>8.70</td>\n",
       "      <td>8.0625</td>\n",
       "      <td>7.2</td>\n",
       "      <td>-0.084382</td>\n",
       "      <td>-0.2635</td>\n",
       "      <td>-0.49</td>\n",
       "      <td>0.0625</td>\n",
       "      <td>0.5</td>\n",
       "      <td>0.004053</td>\n",
       "      <td>0.008433</td>\n",
       "      <td>-0.006213</td>\n",
       "      <td>-0.004894</td>\n",
       "      <td>-0.007060</td>\n",
       "      <td>0.002824</td>\n",
       "      <td>0.000279</td>\n",
       "      <td>0.007384</td>\n",
       "    </tr>\n",
       "    <tr>\n",
       "      <th>1986-03-01</th>\n",
       "      <td>46.030454</td>\n",
       "      <td>52.3399</td>\n",
       "      <td>7.78</td>\n",
       "      <td>7.8750</td>\n",
       "      <td>7.2</td>\n",
       "      <td>-0.253146</td>\n",
       "      <td>-0.1721</td>\n",
       "      <td>-0.92</td>\n",
       "      <td>-0.1875</td>\n",
       "      <td>0.0</td>\n",
       "      <td>0.000701</td>\n",
       "      <td>-0.003919</td>\n",
       "      <td>0.006875</td>\n",
       "      <td>-0.000649</td>\n",
       "      <td>-0.000400</td>\n",
       "      <td>0.005087</td>\n",
       "      <td>0.000281</td>\n",
       "      <td>0.005911</td>\n",
       "    </tr>\n",
       "    <tr>\n",
       "      <th>1986-04-01</th>\n",
       "      <td>45.861689</td>\n",
       "      <td>52.4317</td>\n",
       "      <td>7.30</td>\n",
       "      <td>7.3125</td>\n",
       "      <td>7.1</td>\n",
       "      <td>-0.168764</td>\n",
       "      <td>0.0918</td>\n",
       "      <td>-0.48</td>\n",
       "      <td>-0.5625</td>\n",
       "      <td>-0.1</td>\n",
       "      <td>0.005295</td>\n",
       "      <td>-0.012067</td>\n",
       "      <td>0.007298</td>\n",
       "      <td>0.002114</td>\n",
       "      <td>0.000776</td>\n",
       "      <td>0.003653</td>\n",
       "      <td>0.000254</td>\n",
       "      <td>0.006581</td>\n",
       "    </tr>\n",
       "  </tbody>\n",
       "</table>\n",
       "</div>"
      ],
      "text/plain": [
       "                  cpi  production  gvnbond10y  3mlibor  unemployment  \\\n",
       "DATE                                                                   \n",
       "1986-02-01  46.283600     52.5120        8.70   8.0625           7.2   \n",
       "1986-03-01  46.030454     52.3399        7.78   7.8750           7.2   \n",
       "1986-04-01  45.861689     52.4317        7.30   7.3125           7.1   \n",
       "\n",
       "            cpi_diff  production_diff  gvnbond10y_diff  3mlibor_diff  \\\n",
       "DATE                                                                   \n",
       "1986-02-01 -0.084382          -0.2635            -0.49        0.0625   \n",
       "1986-03-01 -0.253146          -0.1721            -0.92       -0.1875   \n",
       "1986-04-01 -0.168764           0.0918            -0.48       -0.5625   \n",
       "\n",
       "            unemployment_diff       QUA       MKT       SMB     HMLFF  \\\n",
       "DATE                                                                    \n",
       "1986-02-01                0.5  0.004053  0.008433 -0.006213 -0.004894   \n",
       "1986-03-01                0.0  0.000701 -0.003919  0.006875 -0.000649   \n",
       "1986-04-01               -0.1  0.005295 -0.012067  0.007298  0.002114   \n",
       "\n",
       "               HMLDE       UMD        RF     RV30D  \n",
       "DATE                                                \n",
       "1986-02-01 -0.007060  0.002824  0.000279  0.007384  \n",
       "1986-03-01 -0.000400  0.005087  0.000281  0.005911  \n",
       "1986-04-01  0.000776  0.003653  0.000254  0.006581  "
      ]
     },
     "metadata": {},
     "output_type": "display_data"
    },
    {
     "data": {
      "text/html": [
       "<h4>USA - Labels</h4>"
      ],
      "text/plain": [
       "<IPython.core.display.HTML object>"
      ]
     },
     "metadata": {},
     "output_type": "display_data"
    },
    {
     "data": {
      "text/html": [
       "<div>\n",
       "<style scoped>\n",
       "    .dataframe tbody tr th:only-of-type {\n",
       "        vertical-align: middle;\n",
       "    }\n",
       "\n",
       "    .dataframe tbody tr th {\n",
       "        vertical-align: top;\n",
       "    }\n",
       "\n",
       "    .dataframe thead th {\n",
       "        text-align: right;\n",
       "    }\n",
       "</style>\n",
       "<table border=\"1\" class=\"dataframe\">\n",
       "  <thead>\n",
       "    <tr style=\"text-align: right;\">\n",
       "      <th></th>\n",
       "      <th>labels</th>\n",
       "    </tr>\n",
       "    <tr>\n",
       "      <th>DATE</th>\n",
       "      <th></th>\n",
       "    </tr>\n",
       "  </thead>\n",
       "  <tbody>\n",
       "    <tr>\n",
       "      <th>1986-02-01</th>\n",
       "      <td>4</td>\n",
       "    </tr>\n",
       "    <tr>\n",
       "      <th>1986-03-01</th>\n",
       "      <td>4</td>\n",
       "    </tr>\n",
       "    <tr>\n",
       "      <th>1986-04-01</th>\n",
       "      <td>1</td>\n",
       "    </tr>\n",
       "  </tbody>\n",
       "</table>\n",
       "</div>"
      ],
      "text/plain": [
       "            labels\n",
       "DATE              \n",
       "1986-02-01       4\n",
       "1986-03-01       4\n",
       "1986-04-01       1"
      ]
     },
     "metadata": {},
     "output_type": "display_data"
    },
    {
     "data": {
      "text/html": [
       "<h4>USA - Label Names</h4>"
      ],
      "text/plain": [
       "<IPython.core.display.HTML object>"
      ]
     },
     "metadata": {},
     "output_type": "display_data"
    },
    {
     "name": "stdout",
     "output_type": "stream",
     "text": [
      "['equal_weights', 'main_QUA', 'main_SMB', 'main_HMLFF', 'main_UMD']\n"
     ]
    },
    {
     "data": {
      "text/html": [
       "<hr>"
      ],
      "text/plain": [
       "<IPython.core.display.HTML object>"
      ]
     },
     "metadata": {},
     "output_type": "display_data"
    }
   ],
   "source": [
    "country = 'USA'\n",
    "with open(os.path.join(os.getcwd(), 'cache', '%s.pickle' % country), 'rb') as f:\n",
    "    data = pickle.load(f)\n",
    "\n",
    "display(HTML('<h4>%s - Features</h4>' % country))\n",
    "display(data['X'].head(3))\n",
    "\n",
    "display(HTML('<h4>%s - Labels</h4>' % country))\n",
    "display(data['Y'].head(3))\n",
    "\n",
    "display(HTML('<h4>%s - Label Names</h4>' % country))\n",
    "print(data['Y_Names'])\n",
    "display(HTML('<hr>'))"
   ]
  },
  {
   "cell_type": "markdown",
   "metadata": {},
   "source": [
    "## Model Predictions"
   ]
  },
  {
   "cell_type": "code",
   "execution_count": 3,
   "metadata": {
    "ExecuteTime": {
     "end_time": "2019-03-17T11:58:37.611227Z",
     "start_time": "2019-03-17T11:58:37.602253Z"
    }
   },
   "outputs": [],
   "source": [
    "X = data['X'].shift(1).dropna()\n",
    "Y = data['Y'].iloc[:, 1:]"
   ]
  },
  {
   "cell_type": "code",
   "execution_count": 4,
   "metadata": {
    "ExecuteTime": {
     "end_time": "2019-03-17T11:58:37.620239Z",
     "start_time": "2019-03-17T11:58:37.615252Z"
    },
    "scrolled": false
   },
   "outputs": [],
   "source": [
    "rolling = utils.RollingMethod(rolling_bars=120, predict_bars=12)"
   ]
  },
  {
   "cell_type": "code",
   "execution_count": 5,
   "metadata": {
    "ExecuteTime": {
     "end_time": "2019-03-17T11:58:37.628184Z",
     "start_time": "2019-03-17T11:58:37.622199Z"
    }
   },
   "outputs": [],
   "source": [
    "params_space = {\n",
    "    \"max_depth\": [1, 3, 5, 10, 15],\n",
    "    \"n_estimators\": [10, 50, 100, 300],\n",
    "    \"bagging_fraction\":[0.7, 0.85, 1]\n",
    "}\n",
    "model = utils.LightGBM(params_space=params_space)"
   ]
  },
  {
   "cell_type": "code",
   "execution_count": 6,
   "metadata": {
    "ExecuteTime": {
     "end_time": "2019-03-17T11:58:56.191682Z",
     "start_time": "2019-03-17T11:58:37.630179Z"
    },
    "scrolled": false
   },
   "outputs": [
    {
     "data": {
      "application/vnd.jupyter.widget-view+json": {
       "model_id": "9527ecdae12743a98ee5d178c4ee6621",
       "version_major": 2,
       "version_minor": 0
      },
      "text/plain": [
       "HBox(children=(IntProgress(value=0, max=23), HTML(value='')))"
      ]
     },
     "metadata": {},
     "output_type": "display_data"
    },
    {
     "name": "stdout",
     "output_type": "stream",
     "text": [
      "\n"
     ]
    }
   ],
   "source": [
    "res = rolling.run(model, data['X'], data['Y'])"
   ]
  },
  {
   "cell_type": "code",
   "execution_count": 7,
   "metadata": {
    "ExecuteTime": {
     "end_time": "2019-03-17T11:58:56.232571Z",
     "start_time": "2019-03-17T11:58:56.194673Z"
    }
   },
   "outputs": [
    {
     "data": {
      "text/html": [
       "<h4>Label Prediction</h4>"
      ],
      "text/plain": [
       "<IPython.core.display.HTML object>"
      ]
     },
     "metadata": {},
     "output_type": "display_data"
    },
    {
     "data": {
      "text/html": [
       "<div>\n",
       "<style scoped>\n",
       "    .dataframe tbody tr th:only-of-type {\n",
       "        vertical-align: middle;\n",
       "    }\n",
       "\n",
       "    .dataframe tbody tr th {\n",
       "        vertical-align: top;\n",
       "    }\n",
       "\n",
       "    .dataframe thead th {\n",
       "        text-align: right;\n",
       "    }\n",
       "</style>\n",
       "<table border=\"1\" class=\"dataframe\">\n",
       "  <thead>\n",
       "    <tr style=\"text-align: right;\">\n",
       "      <th></th>\n",
       "      <th>labels</th>\n",
       "    </tr>\n",
       "    <tr>\n",
       "      <th>DATE</th>\n",
       "      <th></th>\n",
       "    </tr>\n",
       "  </thead>\n",
       "  <tbody>\n",
       "    <tr>\n",
       "      <th>1996-02-01</th>\n",
       "      <td>3.0</td>\n",
       "    </tr>\n",
       "    <tr>\n",
       "      <th>1996-03-01</th>\n",
       "      <td>2.0</td>\n",
       "    </tr>\n",
       "    <tr>\n",
       "      <th>1996-04-01</th>\n",
       "      <td>4.0</td>\n",
       "    </tr>\n",
       "  </tbody>\n",
       "</table>\n",
       "</div>"
      ],
      "text/plain": [
       "            labels\n",
       "DATE              \n",
       "1996-02-01     3.0\n",
       "1996-03-01     2.0\n",
       "1996-04-01     4.0"
      ]
     },
     "metadata": {},
     "output_type": "display_data"
    },
    {
     "data": {
      "text/html": [
       "<h4>Probability</h4>"
      ],
      "text/plain": [
       "<IPython.core.display.HTML object>"
      ]
     },
     "metadata": {},
     "output_type": "display_data"
    },
    {
     "data": {
      "text/html": [
       "<div>\n",
       "<style scoped>\n",
       "    .dataframe tbody tr th:only-of-type {\n",
       "        vertical-align: middle;\n",
       "    }\n",
       "\n",
       "    .dataframe tbody tr th {\n",
       "        vertical-align: top;\n",
       "    }\n",
       "\n",
       "    .dataframe thead th {\n",
       "        text-align: right;\n",
       "    }\n",
       "</style>\n",
       "<table border=\"1\" class=\"dataframe\">\n",
       "  <thead>\n",
       "    <tr style=\"text-align: right;\">\n",
       "      <th></th>\n",
       "      <th>0</th>\n",
       "      <th>1</th>\n",
       "      <th>2</th>\n",
       "      <th>3</th>\n",
       "      <th>4</th>\n",
       "    </tr>\n",
       "    <tr>\n",
       "      <th>DATE</th>\n",
       "      <th></th>\n",
       "      <th></th>\n",
       "      <th></th>\n",
       "      <th></th>\n",
       "      <th></th>\n",
       "    </tr>\n",
       "  </thead>\n",
       "  <tbody>\n",
       "    <tr>\n",
       "      <th>1996-02-01</th>\n",
       "      <td>0.105861</td>\n",
       "      <td>0.249913</td>\n",
       "      <td>0.202521</td>\n",
       "      <td>0.256292</td>\n",
       "      <td>0.185412</td>\n",
       "    </tr>\n",
       "    <tr>\n",
       "      <th>1996-03-01</th>\n",
       "      <td>0.115414</td>\n",
       "      <td>0.186503</td>\n",
       "      <td>0.247244</td>\n",
       "      <td>0.236995</td>\n",
       "      <td>0.213843</td>\n",
       "    </tr>\n",
       "    <tr>\n",
       "      <th>1996-04-01</th>\n",
       "      <td>0.101440</td>\n",
       "      <td>0.239475</td>\n",
       "      <td>0.128263</td>\n",
       "      <td>0.186992</td>\n",
       "      <td>0.343830</td>\n",
       "    </tr>\n",
       "  </tbody>\n",
       "</table>\n",
       "</div>"
      ],
      "text/plain": [
       "                   0         1         2         3         4\n",
       "DATE                                                        \n",
       "1996-02-01  0.105861  0.249913  0.202521  0.256292  0.185412\n",
       "1996-03-01  0.115414  0.186503  0.247244  0.236995  0.213843\n",
       "1996-04-01  0.101440  0.239475  0.128263  0.186992  0.343830"
      ]
     },
     "metadata": {},
     "output_type": "display_data"
    }
   ],
   "source": [
    "display(HTML('<h4>Label Prediction</h4>'))\n",
    "display(res[0].dropna().head(3))\n",
    "\n",
    "display(HTML('<h4>Probability</h4>'))\n",
    "display(res[1].dropna().head(3))"
   ]
  },
  {
   "cell_type": "markdown",
   "metadata": {
    "ExecuteTime": {
     "end_time": "2019-03-17T11:33:55.552476Z",
     "start_time": "2019-03-17T11:33:55.537514Z"
    }
   },
   "source": [
    "## Threshold Analysis"
   ]
  },
  {
   "cell_type": "code",
   "execution_count": 8,
   "metadata": {
    "ExecuteTime": {
     "end_time": "2019-03-17T11:58:56.332305Z",
     "start_time": "2019-03-17T11:58:56.234566Z"
    }
   },
   "outputs": [],
   "source": [
    "aqr = utils.load_aqr_data(country).dropna()\n",
    "\n",
    "po = utils.PortfolioOptimizer(\n",
    "    utils.build_portfolio(aqr),\n",
    "    aqr['RF'],\n",
    "    aqr['MKT'],\n",
    "    country\n",
    ")"
   ]
  },
  {
   "cell_type": "code",
   "execution_count": 9,
   "metadata": {
    "ExecuteTime": {
     "end_time": "2019-03-17T11:58:59.806340Z",
     "start_time": "2019-03-17T11:58:56.333481Z"
    }
   },
   "outputs": [
    {
     "data": {
      "text/html": [
       "<h4>Without Thresholding</h4>"
      ],
      "text/plain": [
       "<IPython.core.display.HTML object>"
      ]
     },
     "metadata": {},
     "output_type": "display_data"
    },
    {
     "data": {
      "text/html": [
       "<div>\n",
       "<style scoped>\n",
       "    .dataframe tbody tr th:only-of-type {\n",
       "        vertical-align: middle;\n",
       "    }\n",
       "\n",
       "    .dataframe tbody tr th {\n",
       "        vertical-align: top;\n",
       "    }\n",
       "\n",
       "    .dataframe thead th {\n",
       "        text-align: right;\n",
       "    }\n",
       "</style>\n",
       "<table border=\"1\" class=\"dataframe\">\n",
       "  <thead>\n",
       "    <tr style=\"text-align: right;\">\n",
       "      <th></th>\n",
       "      <th>Thresh</th>\n",
       "      <th>Accuracy</th>\n",
       "      <th>Percentage</th>\n",
       "    </tr>\n",
       "  </thead>\n",
       "  <tbody>\n",
       "    <tr>\n",
       "      <th>0</th>\n",
       "      <td>0.00</td>\n",
       "      <td>0.242754</td>\n",
       "      <td>1.0</td>\n",
       "    </tr>\n",
       "    <tr>\n",
       "      <th>1</th>\n",
       "      <td>0.02</td>\n",
       "      <td>0.242754</td>\n",
       "      <td>1.0</td>\n",
       "    </tr>\n",
       "    <tr>\n",
       "      <th>2</th>\n",
       "      <td>0.04</td>\n",
       "      <td>0.242754</td>\n",
       "      <td>1.0</td>\n",
       "    </tr>\n",
       "  </tbody>\n",
       "</table>\n",
       "</div>"
      ],
      "text/plain": [
       "   Thresh  Accuracy  Percentage\n",
       "0    0.00  0.242754         1.0\n",
       "1    0.02  0.242754         1.0\n",
       "2    0.04  0.242754         1.0"
      ]
     },
     "metadata": {},
     "output_type": "display_data"
    },
    {
     "data": {
      "text/html": [
       "<h4>Top Thresholding</h4>"
      ],
      "text/plain": [
       "<IPython.core.display.HTML object>"
      ]
     },
     "metadata": {},
     "output_type": "display_data"
    },
    {
     "data": {
      "text/html": [
       "<div>\n",
       "<style scoped>\n",
       "    .dataframe tbody tr th:only-of-type {\n",
       "        vertical-align: middle;\n",
       "    }\n",
       "\n",
       "    .dataframe tbody tr th {\n",
       "        vertical-align: top;\n",
       "    }\n",
       "\n",
       "    .dataframe thead th {\n",
       "        text-align: right;\n",
       "    }\n",
       "</style>\n",
       "<table border=\"1\" class=\"dataframe\">\n",
       "  <thead>\n",
       "    <tr style=\"text-align: right;\">\n",
       "      <th></th>\n",
       "      <th>Thresh</th>\n",
       "      <th>Accuracy</th>\n",
       "      <th>Percentage</th>\n",
       "    </tr>\n",
       "  </thead>\n",
       "  <tbody>\n",
       "    <tr>\n",
       "      <th>49</th>\n",
       "      <td>0.98</td>\n",
       "      <td>0.400000</td>\n",
       "      <td>0.018116</td>\n",
       "    </tr>\n",
       "    <tr>\n",
       "      <th>18</th>\n",
       "      <td>0.36</td>\n",
       "      <td>0.289062</td>\n",
       "      <td>0.463768</td>\n",
       "    </tr>\n",
       "    <tr>\n",
       "      <th>17</th>\n",
       "      <td>0.34</td>\n",
       "      <td>0.286713</td>\n",
       "      <td>0.518116</td>\n",
       "    </tr>\n",
       "    <tr>\n",
       "      <th>45</th>\n",
       "      <td>0.90</td>\n",
       "      <td>0.285714</td>\n",
       "      <td>0.050725</td>\n",
       "    </tr>\n",
       "    <tr>\n",
       "      <th>21</th>\n",
       "      <td>0.42</td>\n",
       "      <td>0.284404</td>\n",
       "      <td>0.394928</td>\n",
       "    </tr>\n",
       "  </tbody>\n",
       "</table>\n",
       "</div>"
      ],
      "text/plain": [
       "    Thresh  Accuracy  Percentage\n",
       "49    0.98  0.400000    0.018116\n",
       "18    0.36  0.289062    0.463768\n",
       "17    0.34  0.286713    0.518116\n",
       "45    0.90  0.285714    0.050725\n",
       "21    0.42  0.284404    0.394928"
      ]
     },
     "metadata": {},
     "output_type": "display_data"
    }
   ],
   "source": [
    "po.get_stats_table()\n",
    "po.get_best_indicators()\n",
    "display(HTML('<h4>Without Thresholding</h4>'))\n",
    "display(po.get_accuracy_performance_from_ind_probla(res[0], res[1], data['Y_Names']).head(3))\n",
    "\n",
    "display(HTML('<h4>Top Thresholding</h4>'))\n",
    "display(po.get_accuracy_performance_from_ind_probla(res[0], res[1], data['Y_Names']).sort_values('Accuracy', ascending=False).head(5))"
   ]
  },
  {
   "cell_type": "markdown",
   "metadata": {},
   "source": [
    "## Portfolio Performance"
   ]
  },
  {
   "cell_type": "code",
   "execution_count": 10,
   "metadata": {
    "ExecuteTime": {
     "end_time": "2019-03-17T11:59:00.296629Z",
     "start_time": "2019-03-17T11:58:59.807341Z"
    }
   },
   "outputs": [
    {
     "data": {
      "text/plain": [
       "<matplotlib.legend.Legend at 0x22b135aa400>"
      ]
     },
     "execution_count": 10,
     "metadata": {},
     "output_type": "execute_result"
    },
    {
     "data": {
      "image/png": "[encoded data removed]",
      "text/plain": [
       "<Figure size 1152x576 with 1 Axes>"
      ]
     },
     "metadata": {
      "needs_background": "light"
     },
     "output_type": "display_data"
    }
   ],
   "source": [
    "import matplotlib.pyplot as plt\n",
    "\n",
    "fig, ax = plt.subplots(1,1,figsize=(16,8))\n",
    "\n",
    "for thresh in [0, 0.3, 0.5, 0.75]:\n",
    "    ret = po.get_ret_from_ind_probla(res[0], res[1], data['Y_Names'], thresh)\n",
    "    ax.plot(np.log(ret + 1).cumsum(), label='Thresh %.2f' % thresh)\n",
    "\n",
    "ax.plot(np.log(po.market[ret.index] + 1).cumsum(), label='Mkt', alpha=0.7, lw=3)\n",
    "ax.plot(np.log(po.portfolios['equal_weights'][ret.index] + 1).cumsum(), label='Equal Weights', lw=3)\n",
    "\n",
    "ax.legend()"
   ]
  }
 ],
 "metadata": {
  "hide_input": false,
  "kernelspec": {
   "display_name": "Python [conda env:dam]",
   "language": "python",
   "name": "conda-env-dam-py"
  },
  "language_info": {
   "codemirror_mode": {
    "name": "ipython",
    "version": 3
   },
   "file_extension": ".py",
   "mimetype": "text/x-python",
   "name": "python",
   "nbconvert_exporter": "python",
   "pygments_lexer": "ipython3",
   "version": "3.7.2"
  },
  "toc": {
   "base_numbering": 1,
   "nav_menu": {},
   "number_sections": false,
   "sideBar": true,
   "skip_h1_title": false,
   "title_cell": "Table of Contents",
   "title_sidebar": "Contents",
   "toc_cell": false,
   "toc_position": {},
   "toc_section_display": true,
   "toc_window_display": false
  },
  "varInspector": {
   "cols": {
    "lenName": 16,
    "lenType": 16,
    "lenVar": 40
   },
   "kernels_config": {
    "python": {
     "delete_cmd_postfix": "",
     "delete_cmd_prefix": "del ",
     "library": "var_list.py",
     "varRefreshCmd": "print(var_dic_list())"
    },
    "r": {
     "delete_cmd_postfix": ") ",
     "delete_cmd_prefix": "rm(",
     "library": "var_list.r",
     "varRefreshCmd": "cat(var_dic_list()) "
    }
   },
   "types_to_exclude": [
    "module",
    "function",
    "builtin_function_or_method",
    "instance",
    "_Feature"
   ],
   "window_display": false
  }
 },
 "nbformat": 4,
 "nbformat_minor": 2
}
